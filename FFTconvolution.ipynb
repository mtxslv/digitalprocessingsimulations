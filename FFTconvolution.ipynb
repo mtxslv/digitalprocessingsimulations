{
  "nbformat": 4,
  "nbformat_minor": 0,
  "metadata": {
    "colab": {
      "name": "FFTconvolution.ipynb",
      "version": "0.3.2",
      "provenance": [],
      "collapsed_sections": [],
      "toc_visible": true,
      "include_colab_link": true
    },
    "kernelspec": {
      "name": "python3",
      "display_name": "Python 3"
    }
  },
  "cells": [
    {
      "cell_type": "markdown",
      "metadata": {
        "id": "view-in-github",
        "colab_type": "text"
      },
      "source": [
        "<a href=\"https://colab.research.google.com/github/mtxslv/digitalprocessingsimulations/blob/master/FFTconvolution.ipynb\" target=\"_parent\"><img src=\"https://colab.research.google.com/assets/colab-badge.svg\" alt=\"Open In Colab\"/></a>"
      ]
    },
    {
      "cell_type": "markdown",
      "metadata": {
        "id": "r8yj_pbN2lGl",
        "colab_type": "text"
      },
      "source": [
        "#Convolução no domínio da frequência\n",
        "Devem ser implementados algoritmos que consigam realizar convoluções via métodos:\n",
        ">Sobreposição-e-soma;\n",
        ">Sobreposição_e_armazenamentto\n",
        "\n",
        "\n",
        "\n",
        "\n",
        "\n"
      ]
    },
    {
      "cell_type": "markdown",
      "metadata": {
        "id": "rwyCg6dodHBX",
        "colab_type": "text"
      },
      "source": [
        "Suponha uma sequência x_n longa, com U elementos e uma sequência h_n com M elementos. Suponha, por fim, que seja possível realizar uma FFT com N = 512 pontos.\n",
        "\n",
        "PARA FUNCIONAR, PRECISA-SE DEFINIR M E N PREVIAMENTE."
      ]
    },
    {
      "cell_type": "code",
      "metadata": {
        "id": "3HIEdR6OdHhK",
        "colab_type": "code",
        "outputId": "79c9fd5d-d17a-4676-c390-4c899e18a360",
        "colab": {
          "base_uri": "https://localhost:8080/",
          "height": 34
        }
      },
      "source": [
        "N = 512 #We'll apply a 512-points FFT. It is the amount of elements each sequence should have\n",
        "M = 124 #M is the amount of samples in h_n. \n",
        "L = N-M+1 #We should set a L value. It is the amount of elements each block shall have. Note that, with M and N given, L is defined.\n",
        "print(L)"
      ],
      "execution_count": 35,
      "outputs": [
        {
          "output_type": "stream",
          "text": [
            "389\n"
          ],
          "name": "stdout"
        }
      ]
    },
    {
      "cell_type": "markdown",
      "metadata": {
        "id": "m4im3XTSDChn",
        "colab_type": "text"
      },
      "source": [
        "##Importando códigos"
      ]
    },
    {
      "cell_type": "code",
      "metadata": {
        "id": "79aqiHOX-sUO",
        "colab_type": "code",
        "colab": {}
      },
      "source": [
        "# Important Imports\n",
        "import numpy as np #using numpy arrays\n",
        "import math # ceil method\n",
        "import matplotlib.pyplot as plt # plotting loops"
      ],
      "execution_count": 0,
      "outputs": []
    },
    {
      "cell_type": "markdown",
      "metadata": {
        "id": "y5ND1lyEDFjP",
        "colab_type": "text"
      },
      "source": [
        "## Definição da convolução circular\n",
        "\n",
        "O código ```cconvolve()``` recebe duas sequências unidimensionais de mesmo comprimento e devolve a convolução circular entre as duas. O resultado possui o mesmo número de pontos que quaisquer uma das duas recebidas.\n",
        "\n"
      ]
    },
    {
      "cell_type": "code",
      "metadata": {
        "id": "IJ3nTTpe77ZF",
        "colab_type": "code",
        "colab": {}
      },
      "source": [
        "def cconvolve(x,h):\n",
        "  '''\n",
        "  input: numpy-like sequences to be circular convolved (x[n] and y[n])\n",
        "  output: circular convolution of x[n] and h[n] (y[n]: numpy-like sequence).\n",
        "  '''\n",
        "  h_matrix = np.zeros((h.shape[0],h.shape[0])) #h_matrix has dimention (dimension_of_h,dimension_of_h)\n",
        "  \n",
        "  # making h_matrix:\n",
        "  for i in range(0,h.shape[0]):\n",
        "    h_matrix[:,i] = np.roll(h,i) #each column of h_matrix is h.T rolled by column_numbers unities.\n",
        " \n",
        "  #circular convolving x[n] and h[n]\n",
        "  y = np.dot(h_matrix,x) # y[n] = x[n](*)h[n]\n",
        "  \n",
        "  return y \n",
        "  "
      ],
      "execution_count": 0,
      "outputs": []
    },
    {
      "cell_type": "markdown",
      "metadata": {
        "id": "Vp4E908Y77lH",
        "colab_type": "text"
      },
      "source": [
        "##Sobreposição e Soma\n",
        "\n",
        "Aqui iniciaremos o código de sobreposição e soma. Para mais informações, acessar [esse link](https://en.wikipedia.org/wiki/Overlap%E2%80%93add_method)"
      ]
    },
    {
      "cell_type": "markdown",
      "metadata": {
        "id": "Q6VfiwmxomMT",
        "colab_type": "text"
      },
      "source": [
        "**Abaixo se encontra o código do método *overlapping-and-add***"
      ]
    },
    {
      "cell_type": "code",
      "metadata": {
        "id": "kcEd9yUJXzDl",
        "colab_type": "code",
        "colab": {}
      },
      "source": [
        "def ola(x_n,h_n): #overlapping-and-add \n",
        "  '''\n",
        "  input: two sequences (x_n and h_n)\n",
        "  output: the circular convolution of x_n and h_n through overlapping-add method\n",
        "  '''\n",
        "  \n",
        "  #Let's turn the input sequence x_n into a block of (U/L) lines and L+M-1 columns (we are doing zero padding)\n",
        "  \n",
        "  #Let's check out if U/L is integer. If not, let's concatenate the remaining zeros at the end of the x_n sequence.\n",
        "  #WATCH OUT! In order to work properly, x_n.shape[0]>L\n",
        "  if not isinstance(x_n.shape[0]/L,int):\n",
        "    x_n = np.concatenate( (x_n, np.zeros( math.ceil( x_n.shape[0]/L )*L-x_n.shape[0]) ) )\n",
        "  \n",
        "  #xl_n will have U/L lines and L columns.\n",
        "  xl_n = x_n.reshape( int(x_n.shape[0]/L) , L)\n",
        "\n",
        "  #Concatenating M-1 null columns at the end of the matrix\n",
        "  zero_column = np.zeros( (int(x_n.shape[0]/L), M-1) )\n",
        "  xl = np.concatenate((xl_n,zero_column),axis = 1)\n",
        "  \n",
        "  #x_n is ready. Working with h_n...\n",
        "  \n",
        "  #h_n has M samples, then, we should zero-pad it with L-1 null samples.\n",
        "  n_h_n = np.concatenate((h_n, np.zeros(L-1)))\n",
        "  \n",
        "  #n_h_n is ready. Now we have to find y_matrix\n",
        "  \n",
        "  y_matrix = np.zeros(xl.shape) # matrix with xl dimension \n",
        "  \n",
        "  H_k = np.fft.fft(n_h_n) # H_k is the n_h_n FFT\n",
        "  \n",
        "  for i in range(xl.shape[0]): # do the loop for each line of xl\n",
        "    X_k = np.fft.fft(xl[i,:]) # X_k is the FFT of the sequence stored in i line of xl\n",
        "    Y_k = np.multiply(X_k,H_k.T) # Y_k is the element-wise product of X_k and H_k\n",
        "    y_ = np.fft.ifft(Y_k) # y_ is the inverse of Y_k, in discrete-time domain\n",
        "    y_matrix[i,:] = y_ # i line of y_matrix stores y_ \n",
        "  \n",
        "  # y_matrix is ready. Now we just need to arrange it in order to have the sequence y_n\n",
        "  # y_n has the length of x_n plus M-1 samples\n",
        "  \n",
        "  y_n = np.zeros(y_matrix.shape[0]*(y_matrix.shape[1] - (h_n.shape[0]-1)) + 2*(h_n.shape[0]-1))\n",
        "\n",
        "  for i in range(y_matrix.shape[0]):\n",
        "    inicio = i*L\n",
        "    final = inicio + y_matrix.shape[1]\n",
        "    y_n[inicio:final] = y_n[inicio:final]+y_matrix[i,:]\n",
        "    \n",
        "  return y_n"
      ],
      "execution_count": 0,
      "outputs": []
    },
    {
      "cell_type": "markdown",
      "metadata": {
        "id": "iQSj_jRaZLFx",
        "colab_type": "text"
      },
      "source": [
        "##Sobreposição e Armazenamento"
      ]
    },
    {
      "cell_type": "markdown",
      "metadata": {
        "id": "DcB132tGojly",
        "colab_type": "text"
      },
      "source": [
        "\n",
        "**Abaixo se encontra o código do método *overlapping-and-save***"
      ]
    },
    {
      "cell_type": "code",
      "metadata": {
        "id": "4vERHRyApIFa",
        "colab_type": "code",
        "colab": {}
      },
      "source": [
        "def ols(x_n, h_n):#overlapping-and-save \n",
        "  '''\n",
        "  input: two sequences (x_n and h_n)\n",
        "  output: the circular convolution of x_n and h_n through overlapping-save method\n",
        "  '''\n",
        "  \n",
        "  # Let's register the length of the sequences\n",
        "  M_ = h_n.shape[0]\n",
        "  U_ = x_n.shape[0]\n",
        "  \n",
        "  #Let's turn the input sequence x_n into a block of (U/L) lines and L+M-1 columns (we are doing zero padding)\n",
        "  \n",
        "  #Let's check out if U/L is integer. If not, let's concatenate the remaining zeros at the end of the x_n sequence.\n",
        "  #WATCH OUT! In order to work properly, x_n.shape[0]>L\n",
        "  if not isinstance(x_n.shape[0]/L,int):\n",
        "    x_n = np.concatenate( (x_n, np.zeros( math.ceil( x_n.shape[0]/L )*L-x_n.shape[0]) ) )\n",
        "  \n",
        "  #xl_n will have U/L lines and L columns.\n",
        "  xl_n = x_n.reshape( int(x_n.shape[0]/L) , L)\n",
        "\n",
        "  #Concatenating M-1 columns at the beginning of the matrix\n",
        "  \n",
        "  #making the appendix that goes in the first columns of xl\n",
        "  zero_line = np.array( [np.zeros(M-1)] )\n",
        "  jeta = xl_n[:xl_n.shape[0]-1,-(M-1):]\n",
        "  appendix = np.concatenate((zero_line,jeta))\n",
        "  \n",
        "  #defining xl\n",
        "  xl = np.concatenate((appendix,xl_n),axis = 1)\n",
        "  \n",
        "  #h_n has M samples, then, we should zero-pad it with L-1 null samples.\n",
        "  n_h_n = np.concatenate((h_n, np.zeros(L-1)))\n",
        "  \n",
        "  #n_h_n is ready. Now we have to find y_matrix\n",
        "  \n",
        "  y_matrix = np.zeros(xl.shape) # matrix with xl dimension \n",
        "  \n",
        "  H_k = np.fft.fft(n_h_n) # H_k is the n_h_n FFT\n",
        "  \n",
        "  for i in range(xl.shape[0]): # do the loop for each line of xl\n",
        "    X_k = np.fft.fft(xl[i,:]) # X_k is the FFT of the sequence stored in i line of xl\n",
        "    Y_k = np.multiply(X_k,H_k.T) # Y_k is the element-wise product of X_k and H_k\n",
        "    y_ = np.fft.ifft(Y_k) # y_ is the inverse of Y_k, in discrete-time domain\n",
        "    y_matrix[i,:] = y_ # i line of y_matrix stores y_ \n",
        "\n",
        "  # y_matrix is ready. Now we just need to arrange it in order to have the sequence y_n\n",
        "  \n",
        "  # discard first M-1 columns\n",
        "  y_mat = y_matrix[:,-L:]\n",
        "  #reshape in order to return an array\n",
        "  y_n = y_mat.reshape(-1,1).T[0]\n",
        "  \n",
        "  return y_n\n",
        "    \n",
        "  "
      ],
      "execution_count": 0,
      "outputs": []
    },
    {
      "cell_type": "markdown",
      "metadata": {
        "id": "5OjSbayCeIkK",
        "colab_type": "text"
      },
      "source": [
        "##Definição de sinais de teste\n",
        "\n"
      ]
    },
    {
      "cell_type": "markdown",
      "metadata": {
        "id": "3iLZNnk9eRRm",
        "colab_type": "text"
      },
      "source": [
        "Seja o filtro passa-baixa h[n] dado pela relação:\n",
        "                      h[n] = sin [0.325*pi*(n-62)]\n",
        "                                 -----------------\n",
        "                                       pi*(n-62)\n",
        "com  0<=n<124                                    \n",
        "                                       "
      ]
    },
    {
      "cell_type": "code",
      "metadata": {
        "id": "LJxTdn3yfDr7",
        "colab_type": "code",
        "colab": {}
      },
      "source": [
        "n = np.arange(M)\n",
        "h_n = np.sin( 0.325*np.pi*(n-62))*(np.pi*(n-62))\n"
      ],
      "execution_count": 0,
      "outputs": []
    },
    {
      "cell_type": "markdown",
      "metadata": {
        "id": "MJIt-OHMa9vO",
        "colab_type": "text"
      },
      "source": [
        "Os sinais a serem filtrados são:"
      ]
    },
    {
      "cell_type": "code",
      "metadata": {
        "id": "9LGWrgmHahj0",
        "colab_type": "code",
        "colab": {}
      },
      "source": [
        "x1_n = np.ones(3000)\n",
        "x2_n = np.ones(220)"
      ],
      "execution_count": 0,
      "outputs": []
    },
    {
      "cell_type": "markdown",
      "metadata": {
        "id": "Yx6Ty659nVdg",
        "colab_type": "text"
      },
      "source": [
        "cujo domínio é:"
      ]
    },
    {
      "cell_type": "code",
      "metadata": {
        "id": "CxbdKWSknXC9",
        "colab_type": "code",
        "colab": {}
      },
      "source": [
        "n_1 = np.arange(3000)-3000/2\n",
        "n_2 = np.arange(220) - 220/2"
      ],
      "execution_count": 0,
      "outputs": []
    },
    {
      "cell_type": "markdown",
      "metadata": {
        "id": "GwUgdlVzbRnz",
        "colab_type": "text"
      },
      "source": [
        "##Testes:"
      ]
    },
    {
      "cell_type": "code",
      "metadata": {
        "id": "qohVsNzBbTfj",
        "colab_type": "code",
        "outputId": "39b0fe53-3968-42ce-e985-e3cbee006564",
        "colab": {
          "base_uri": "https://localhost:8080/",
          "height": 51
        }
      },
      "source": [
        "y2_ols = ols(x2_n,h_n)\n",
        "y2_ola = ola(x2_n,h_n)"
      ],
      "execution_count": 43,
      "outputs": [
        {
          "output_type": "stream",
          "text": [
            "/usr/local/lib/python3.6/dist-packages/ipykernel_launcher.py:44: ComplexWarning: Casting complex values to real discards the imaginary part\n",
            "/usr/local/lib/python3.6/dist-packages/ipykernel_launcher.py:36: ComplexWarning: Casting complex values to real discards the imaginary part\n"
          ],
          "name": "stderr"
        }
      ]
    },
    {
      "cell_type": "code",
      "metadata": {
        "id": "b6h12850gYr9",
        "colab_type": "code",
        "outputId": "fe7b8cfd-61ea-45dd-9bf1-1a5bfbbc30ab",
        "colab": {
          "base_uri": "https://localhost:8080/",
          "height": 51
        }
      },
      "source": [
        "y1_ols = ols(x1_n,h_n)\n",
        "y1_ola = ola(x1_n,h_n)"
      ],
      "execution_count": 44,
      "outputs": [
        {
          "output_type": "stream",
          "text": [
            "/usr/local/lib/python3.6/dist-packages/ipykernel_launcher.py:44: ComplexWarning: Casting complex values to real discards the imaginary part\n",
            "/usr/local/lib/python3.6/dist-packages/ipykernel_launcher.py:36: ComplexWarning: Casting complex values to real discards the imaginary part\n"
          ],
          "name": "stderr"
        }
      ]
    },
    {
      "cell_type": "code",
      "metadata": {
        "id": "E3ID6o3InmGv",
        "colab_type": "code",
        "colab": {
          "base_uri": "https://localhost:8080/",
          "height": 824
        },
        "outputId": "91cb8810-6662-471a-c1e1-38231e799c8c"
      },
      "source": [
        "#comparando os resultados da primeira sequencia\n",
        "print(y1_ols.shape[0])\n",
        "print(y1_ols)\n",
        "\n",
        "plt.figure(1)\n",
        "plt.plot(np.arange(y1_ols.shape[0]),y1_ols)\n",
        "\n",
        "plt.figure(2)\n",
        "plt.plot(np.arange(y1_ola.shape[0]),y1_ola)\n",
        "\n",
        "plt.figure(3)\n",
        "plt.plot(n_1,x1_n)\n",
        "\n",
        "plt.show()"
      ],
      "execution_count": 68,
      "outputs": [
        {
          "output_type": "stream",
          "text": [
            "3112\n",
            "[  88.42769956  -11.70243723 -200.19799645 ... -224.6429419   -81.22699799\n",
            "  -45.29087623]\n"
          ],
          "name": "stdout"
        },
        {
          "output_type": "display_data",
          "data": {
            "image/png": "[encoded data removed]",
            "text/plain": [
              "<Figure size 432x288 with 1 Axes>"
            ]
          },
          "metadata": {
            "tags": []
          }
        },
        {
          "output_type": "display_data",
          "data": {
            "image/png": "[encoded data removed]",
            "text/plain": [
              "<Figure size 432x288 with 1 Axes>"
            ]
          },
          "metadata": {
            "tags": []
          }
        },
        {
          "output_type": "display_data",
          "data": {
            "image/png": "[encoded data removed]",
            "text/plain": [
              "<Figure size 432x288 with 1 Axes>"
            ]
          },
          "metadata": {
            "tags": []
          }
        }
      ]
    },
    {
      "cell_type": "code",
      "metadata": {
        "id": "cArb00KZp3ic",
        "colab_type": "code",
        "colab": {
          "base_uri": "https://localhost:8080/",
          "height": 773
        },
        "outputId": "e147fbc8-99f8-4aa5-cb68-e24e5d1daaa5"
      },
      "source": [
        "#comparando os resultados da segunda sequencia\n",
        "\n",
        "plt.figure(1)\n",
        "plt.plot(np.arange(y2_ols.shape[0]),y2_ols)\n",
        "\n",
        "plt.figure(2)\n",
        "plt.plot(np.arange(y2_ola.shape[0]),y2_ola)\n",
        "\n",
        "plt.figure(3)\n",
        "plt.plot(n_2,x2_n)\n",
        "\n",
        "plt.show()"
      ],
      "execution_count": 70,
      "outputs": [
        {
          "output_type": "display_data",
          "data": {
            "image/png": "[encoded data removed]",
            "text/plain": [
              "<Figure size 432x288 with 1 Axes>"
            ]
          },
          "metadata": {
            "tags": []
          }
        },
        {
          "output_type": "display_data",
          "data": {
            "image/png": "[encoded data removed]",
            "text/plain": [
              "<Figure size 432x288 with 1 Axes>"
            ]
          },
          "metadata": {
            "tags": []
          }
        },
        {
          "output_type": "display_data",
          "data": {
            "image/png": "[encoded data removed]",
            "text/plain": [
              "<Figure size 432x288 with 1 Axes>"
            ]
          },
          "metadata": {
            "tags": []
          }
        }
      ]
    },
    {
      "cell_type": "code",
      "metadata": {
        "id": "hb_lqQxrprsL",
        "colab_type": "code",
        "colab": {}
      },
      "source": [
        ""
      ],
      "execution_count": 0,
      "outputs": []
    }
  ]
}
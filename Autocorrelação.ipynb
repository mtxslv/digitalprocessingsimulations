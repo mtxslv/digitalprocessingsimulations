{
  "nbformat": 4,
  "nbformat_minor": 0,
  "metadata": {
    "colab": {
      "name": "Autocorrelação.ipynb",
      "version": "0.3.2",
      "provenance": [],
      "collapsed_sections": []
    },
    "kernelspec": {
      "name": "python3",
      "display_name": "Python 3"
    }
  },
  "cells": [
    {
      "metadata": {
        "id": "8pwc47HXv85n",
        "colab_type": "text"
      },
      "cell_type": "markdown",
      "source": [
        "# Objetivos:\n",
        "Temos o objetivo de desenvolver um algoritmo capaz de calcular a autocorrelação de uma sequência adquirida a partir de uma distribuição gaussiana normal de probabilidades. Para tanto usaremos o método :\n",
        "\n",
        "```\n",
        "numpy.random.rand()\n",
        "```\n",
        "\n"
      ]
    },
    {
      "metadata": {
        "id": "KfKDzQbhv5HC",
        "colab_type": "code",
        "colab": {}
      },
      "cell_type": "code",
      "source": [
        "import numpy as np\n"
      ],
      "execution_count": 0,
      "outputs": []
    },
    {
      "metadata": {
        "id": "SqrAYVvKwmTc",
        "colab_type": "text"
      },
      "cell_type": "markdown",
      "source": [
        "# Geração de Sequências\n",
        "\n",
        "Apesar de querermos, teoricamente, uma sequência de NL termos, computacionalmente é melhor termos uma matriz L por N.\n",
        "\n",
        "Assim, criemos uma função gerador_sequencia que recebe como argumento os parâmetros L e N. Ela deve retornar uma matriz de L linhas e N colunas, completamente preenchida por termos randômicos (método *np.rand.randn()*). A cada linha da matriz resultado chamaremos sequência x_a[n], com subíndice *a* referente a linha da matriz em que se encontra:"
      ]
    },
    {
      "metadata": {
        "id": "OaWcI5_bwx9g",
        "colab_type": "code",
        "colab": {}
      },
      "cell_type": "code",
      "source": [
        "def gerador_sequencia(parametro_l, parametro_n):\n",
        "  return np.random.randn(parametro_l,parametro_n)"
      ],
      "execution_count": 0,
      "outputs": []
    },
    {
      "metadata": {
        "id": "h_YU8IuGw4e8",
        "colab_type": "text"
      },
      "cell_type": "markdown",
      "source": [
        "# Definição de Matrizes\n",
        "\n",
        "A partir das sequências geradas, iremos definir as matrizes Rl[n,tau]. Considere a matriz de aproximações ~Rl[n,tau] NxN, onde a contagem das linhas se inicia em 0 e se relaciona com a variável tau e as colunas se iniciam em 1 e se relacionam com a variável n. Cada termo da matriz é definido através de xl[n]*xl[n+tau].\n",
        "\n",
        "Deve-se perceber que, quando o índice da sequência xl[.] ultrapassa o tamanho da sequência (o que começa a ocorrer em n = N+1), o termo correspondente da matriz é zerado.\n",
        "\n",
        "Vale saber que passa-se as linhas da matriz sequencia. Assim, como iremos receber sempre uma vetor linha, precisamos sempre passar vetor_sequencia.shape[1]. Logo, usarei a linha:\n",
        "> `matriz_apr_R[tau, n] = vetor_sequencia[n]*vetor_sequencia[n+tau]`\n"
      ]
    },
    {
      "metadata": {
        "id": "ISbeMTB7xfPI",
        "colab_type": "code",
        "colab": {}
      },
      "cell_type": "code",
      "source": [
        "def gerar_matriz_RL(vetor_sequencia):\n",
        "  matriz_apr_R = np.zeros([vetor_sequencia.shape[0],vetor_sequencia.shape[0]]) # recebo as colunas da matriz em forma de uma tupla\n",
        "  for tau in range(0,vetor_sequencia.shape[0]): # sempre pegar as colunas!\n",
        "    for n in range(0,vetor_sequencia.shape[0]): # sempre pegar as colunas!\n",
        "      if n+1+tau <= matriz_apr_R.shape[0]:\n",
        "        matriz_apr_R[tau, n] = vetor_sequencia[n]*vetor_sequencia[n+tau]  \n",
        "  return matriz_apr_R"
      ],
      "execution_count": 0,
      "outputs": []
    },
    {
      "metadata": {
        "id": "nCzK9ImXyIri",
        "colab_type": "text"
      },
      "cell_type": "markdown",
      "source": [
        "# Código de geração de todas as matrizes:\n",
        "Pro código a seguir, a variável `matriz_de_sequencias` se refere à matriz gerada pela função `gerador_sequencia()`"
      ]
    },
    {
      "metadata": {
        "id": "ntyDf1a_yNPC",
        "colab_type": "code",
        "colab": {}
      },
      "cell_type": "code",
      "source": [
        "def gerar_matrizes(matriz_de_sequencias):\n",
        "  lista_de_matrizes = [] #inicia como uma lista nula\n",
        "  for iterador in range(0 , matriz_de_sequencias.shape[0]): \n",
        "    variavel_matriz_temporaria = gerar_matriz_RL(matriz_de_sequencias[iterador,:])\n",
        "    lista_de_matrizes.append(variavel_matriz_temporaria)\n",
        "  return lista_de_matrizes"
      ],
      "execution_count": 0,
      "outputs": []
    },
    {
      "metadata": {
        "id": "vDx0Cqtjyggu",
        "colab_type": "text"
      },
      "cell_type": "markdown",
      "source": [
        "# Gerador da matriz final multiplicada por L\n",
        "\n",
        "Através do código abaixo podemos somar todas as matrizes geradas, ainda sem dividi-las por L."
      ]
    },
    {
      "metadata": {
        "id": "ZZqwypOxysuT",
        "colab_type": "code",
        "colab": {}
      },
      "cell_type": "code",
      "source": [
        "def media_matricial(lista_de_matrizes):\n",
        "  matriz_R = np.zeros(lista_de_matrizes[0].shape)\n",
        "  for tau in range(0,lista_de_matrizes[0][0].shape[0]): # sempre pegar as colunas!\n",
        "    for n in range(0,lista_de_matrizes[0][0].shape[0]): # sempre pegar as colunas!\n",
        "      for k in range(len(lista_de_matrizes)):\n",
        "        if n+1+tau <= matriz_R.shape[0]:\n",
        "          matriz_R[tau,n] = matriz_R[tau,n] + lista_de_matrizes[k][tau][n]\n",
        "  return matriz_R"
      ],
      "execution_count": 0,
      "outputs": []
    },
    {
      "metadata": {
        "id": "q3Yzb2Hpy1dp",
        "colab_type": "text"
      },
      "cell_type": "markdown",
      "source": [
        "# Função de plotagem do gráfico\n",
        "\n",
        "Abaixo encontra-se um função que recebe a matriz a ser plotada (variável `resultado`) e plota o gráfico. "
      ]
    },
    {
      "metadata": {
        "id": "AKe4J9k0y0jN",
        "colab_type": "code",
        "colab": {}
      },
      "cell_type": "code",
      "source": [
        "def my_plot(resultado):\n",
        "  from mpl_toolkits.mplot3d import Axes3D\n",
        "  import matplotlib.pyplot as plt\n",
        "  from matplotlib import cm\n",
        "  from matplotlib.ticker import LinearLocator, FormatStrFormatter\n",
        "  \n",
        "  fig = plt.figure()\n",
        "  ax = fig.gca(projection='3d')\n",
        "\n",
        "  n_cordinate = np.linspace(resultado.shape[0],1,resultado.shape[0]) # y coordinate\n",
        "  tau_cordinate = np.linspace(0,resultado.shape[0]-1,resultado.shape[0]) # x coordinate\n",
        "  xc, yc = np.meshgrid(tau_cordinate,n_cordinate)\n",
        "\n",
        "  surf = ax.plot_surface(xc, yc, resultado, cmap=cm.coolwarm,\n",
        "                       linewidth=0, antialiased=False)\n",
        "  # Customize the z axis.\n",
        "  ax.set_zlim(np.amin(resultado), np.amax(resultado))\n",
        "  \n",
        "  # Customize title.\n",
        "  plt.title('Autocorrelação') #adicionando o título\n",
        "  \n",
        "  # Customize X and Y axis.\n",
        "  plt.xlabel('tau')\n",
        "  plt.ylabel('n')\n",
        "\n",
        "  \n",
        "\n",
        "  #Print graph\n",
        "  plt.show()\n",
        "  "
      ],
      "execution_count": 0,
      "outputs": []
    },
    {
      "metadata": {
        "id": "oq86YQRp0RIZ",
        "colab_type": "text"
      },
      "cell_type": "markdown",
      "source": [
        "# Definição dos vetores N e L"
      ]
    },
    {
      "metadata": {
        "id": "0Zg6mqpN0V7r",
        "colab_type": "code",
        "colab": {}
      },
      "cell_type": "code",
      "source": [
        "L_list, N_list = [50, 500, 5000], [10, 50, 100]"
      ],
      "execution_count": 0,
      "outputs": []
    },
    {
      "metadata": {
        "id": "CuzvTqZVzO9n",
        "colab_type": "text"
      },
      "cell_type": "markdown",
      "source": [
        "# Automatização do código e plotagem de todos os gráficos:\n",
        "\n",
        "Para o funcionamento correto do nosso algoritmo, a chamada das funções deve ser feita como se segue:\n",
        "\n",
        "\n",
        "```\n",
        ">variavel_l, variavel_n = .,.\n",
        ">a = gerador_sequencia(l,n)\n",
        ">b = gerar_matrizes(a)\n",
        ">c = media_matricial(b)\n",
        ">d = np.multiply(1/variavel_l,d)\n",
        ">my_plot(np.multiply(1/l,c))\n",
        "```\n",
        "\n"
      ]
    },
    {
      "metadata": {
        "id": "0Oxyhp9-zUbf",
        "colab_type": "code",
        "outputId": "3a5d152c-af23-46a7-ae77-85a8c92e71fa",
        "colab": {
          "base_uri": "https://localhost:8080/",
          "height": 330
        }
      },
      "cell_type": "code",
      "source": [
        "variavel_l, variavel_n = 5000,100\n",
        "a = gerador_sequencia(variavel_l,variavel_n)\n",
        "b = gerar_matrizes(a)\n",
        "c = media_matricial(b)\n",
        "d = np.multiply(1/variavel_l,c)\n",
        "my_plot(d)"
      ],
      "execution_count": 0,
      "outputs": [
        {
          "output_type": "display_data",
          "data": {
            "image/png": "[encoded data removed]",
            "text/plain": [
              "<Figure size 576x396 with 1 Axes>"
            ]
          },
          "metadata": {
            "tags": []
          }
        }
      ]
    },
    {
      "metadata": {
        "id": "LNkYo9ayesah",
        "colab_type": "code",
        "colab": {}
      },
      "cell_type": "code",
      "source": [
        "'''\n",
        "from google.colab import files\n",
        "\n",
        "with open('example.txt', 'w') as f:\n",
        "  f.write(str(d))\n",
        "\n",
        "files.download('example.txt')\n",
        "\n",
        "'''\n",
        "# codigo de download dos dados d"
      ],
      "execution_count": 0,
      "outputs": []
    },
    {
      "metadata": {
        "id": "ZKnv62BYAzI9",
        "colab_type": "code",
        "outputId": "a2bc4fc3-44da-4274-b87e-5ac85c77a7c9",
        "colab": {
          "base_uri": "https://localhost:8080/",
          "height": 408
        }
      },
      "cell_type": "code",
      "source": [
        "import pandas as pd\n",
        "pd.DataFrame(np.multiply(1/variavel_l,c)).to_csv"
      ],
      "execution_count": 0,
      "outputs": [
        {
          "output_type": "execute_result",
          "data": {
            "text/plain": [
              "<bound method DataFrame.to_csv of           0         1         2         3         4         5         6  \\\n",
              "0  0.809168  0.756100  0.937665  1.088292  1.073669  0.793526  0.930787   \n",
              "1 -0.039184  0.091680  0.151355 -0.322206 -0.048945  0.104301 -0.023377   \n",
              "2  0.028500 -0.141416  0.070716  0.134139  0.103356  0.065846  0.058482   \n",
              "3 -0.024896  0.016035  0.077115  0.088514  0.020896  0.061192 -0.147415   \n",
              "4  0.188156 -0.029598  0.150897  0.133741 -0.019345 -0.159753  0.000000   \n",
              "5  0.100365  0.177771  0.122042 -0.086277 -0.111068  0.000000  0.000000   \n",
              "6 -0.204209  0.156268 -0.017284 -0.149311  0.000000  0.000000  0.000000   \n",
              "7  0.175726  0.034933 -0.074103  0.000000  0.000000  0.000000  0.000000   \n",
              "8  0.097175 -0.062876  0.000000  0.000000  0.000000  0.000000  0.000000   \n",
              "9 -0.178197  0.000000  0.000000  0.000000  0.000000  0.000000  0.000000   \n",
              "\n",
              "          7         8         9  \n",
              "0  1.058514  1.021983  0.885491  \n",
              "1  0.082555  0.026335  0.000000  \n",
              "2  0.005960  0.000000  0.000000  \n",
              "3  0.000000  0.000000  0.000000  \n",
              "4  0.000000  0.000000  0.000000  \n",
              "5  0.000000  0.000000  0.000000  \n",
              "6  0.000000  0.000000  0.000000  \n",
              "7  0.000000  0.000000  0.000000  \n",
              "8  0.000000  0.000000  0.000000  \n",
              "9  0.000000  0.000000  0.000000  >"
            ]
          },
          "metadata": {
            "tags": []
          },
          "execution_count": 9
        }
      ]
    }
  ]
}
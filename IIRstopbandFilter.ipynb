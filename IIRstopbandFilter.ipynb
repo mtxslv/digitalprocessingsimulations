{
  "nbformat": 4,
  "nbformat_minor": 0,
  "metadata": {
    "colab": {
      "name": "IIRstopbandFilter.ipynb",
      "version": "0.3.2",
      "provenance": [],
      "collapsed_sections": [],
      "include_colab_link": true
    },
    "kernelspec": {
      "name": "python3",
      "display_name": "Python 3"
    }
  },
  "cells": [
    {
      "cell_type": "markdown",
      "metadata": {
        "id": "view-in-github",
        "colab_type": "text"
      },
      "source": [
        "<a href=\"https://colab.research.google.com/github/mtxslv/digitalprocessingsimulations/blob/master/IIRstopbandFilter.ipynb\" target=\"_parent\"><img src=\"https://colab.research.google.com/assets/colab-badge.svg\" alt=\"Open In Colab\"/></a>"
      ]
    },
    {
      "cell_type": "code",
      "metadata": {
        "id": "rb3eJrF36GeD",
        "colab_type": "code",
        "colab": {}
      },
      "source": [
        "from scipy import signal\n",
        "import numpy as np"
      ],
      "execution_count": 0,
      "outputs": []
    },
    {
      "cell_type": "markdown",
      "metadata": {
        "id": "qmHUuxSI5Ekc",
        "colab_type": "text"
      },
      "source": [
        "## Especificações do filtro IIR\n",
        "Pro filtro IIR, é necessário sabermos a variação que nosso sinal vai sofrer (pulsação) na banda de passagem e na banda de rejeição. Chamemos duas variáveis, epsilon (pra banda de passagem) e delta (pra banda de rejeição). De forma a compararmos com o [filtro FIR anteriormente realizado](https://github.com/mtxslv/digitalprocessingsimulations/blob/master/band_stopFilter.ipynb), faremos:"
      ]
    },
    {
      "cell_type": "code",
      "metadata": {
        "id": "icvtdDap4oZK",
        "colab_type": "code",
        "colab": {}
      },
      "source": [
        "# Limites de pulsação\n",
        "epsilon = 0.02 # Na banda de passagem\n",
        "delta = 0.01 # Na banda de rejeição"
      ],
      "execution_count": 0,
      "outputs": []
    },
    {
      "cell_type": "markdown",
      "metadata": {
        "id": "SjL7rbJU6j_M",
        "colab_type": "text"
      },
      "source": [
        "##Cálculo dos amortecimentos (dB) e das frequências importantes\n",
        "Ora, os amortecimentos são importantes pra se calcular a ordem do [filtro](https://en.wikipedia.org/wiki/Butterworth_filter). As frequências de rejeição e passagem nos indicam onde \"cortar\" as componentes do sinal."
      ]
    },
    {
      "cell_type": "code",
      "metadata": {
        "id": "e5LPqsnL6iMc",
        "colab_type": "code",
        "colab": {}
      },
      "source": [
        "ganho_pas = 20*np.log10(epsilon) # ~-34\n",
        "ganho_rej = 20*np.log10(delta) # -40"
      ],
      "execution_count": 0,
      "outputs": []
    },
    {
      "cell_type": "code",
      "metadata": {
        "id": "XKdKFe066OoQ",
        "colab_type": "code",
        "colab": {}
      },
      "source": [
        "omega_pas = [0.35, 0.65]\n",
        "omega_rej = [0.4, 0.6]"
      ],
      "execution_count": 0,
      "outputs": []
    },
    {
      "cell_type": "markdown",
      "metadata": {
        "id": "JWRxE8CgE1nW",
        "colab_type": "text"
      },
      "source": [
        "## Cálculo da ordem do filtro\n",
        "Para o cálculo da ordem do filtro, usaremos a função **signal.buttord**. Para mais informações sobre, [acesse aqui](https://docs.scipy.org/doc/scipy-0.14.0/reference/generated/scipy.signal.buttord.html). "
      ]
    },
    {
      "cell_type": "code",
      "metadata": {
        "id": "7HDbRI2hFxXk",
        "colab_type": "code",
        "colab": {}
      },
      "source": [
        "N, Wn = signal.buttord(omega_pas, omega_rej, ganho_pas, ganho_rej) # N = 2, Wn = [0.08618914 0.91381099]"
      ],
      "execution_count": 0,
      "outputs": []
    },
    {
      "cell_type": "markdown",
      "metadata": {
        "id": "a7nZ0rccGaup",
        "colab_type": "text"
      },
      "source": [
        "##Agora vamos ao *design* do filtro\n",
        "\n",
        "Como estamos lidando com filtro butterworth, vamos utilizar uma [função pronta](https://docs.scipy.org/doc/scipy-0.14.0/reference/generated/scipy.signal.butter.html) para o cálculo dos coeficientes do polinômio."
      ]
    },
    {
      "cell_type": "code",
      "metadata": {
        "id": "GFp9S_M_HV5i",
        "colab_type": "code",
        "colab": {}
      },
      "source": [
        "b,a = signal.butter(N,Wn,'bandstop') \n",
        "# b = [5.24319516e-02 1.61394248e-07 1.04863903e-01 1.61394248e-07 5.24319516e-02]\n",
        "# a = [1.00000000e+00  5.72517329e-07 -1.25602799e+00 -2.49728833e-07 4.65755795e-01]"
      ],
      "execution_count": 0,
      "outputs": []
    },
    {
      "cell_type": "markdown",
      "metadata": {
        "id": "mxcUSj1IFxIk",
        "colab_type": "text"
      },
      "source": [
        "##Vamos as equações de diferenças!!\n",
        "O resultado acima alcançado já nos dá os coeficientes $b_k$ e $a_k$ da equação:\n",
        "\n",
        " >>>  $H(z) = \\frac{Y(z)}{X(z)} = \\frac{B(z)}{A(z)}=   \\frac{\\sum_{k=0}^{M}b_kz^-k}{1 - \\sum_{k=1}^{N}a_kz^-k}  $\n",
        " \n",
        " A partir da transformada $Z$ inversa, chegamos a:\n",
        " >>> $ y[n] = \\sum_{k=1}^Na_ky[n-k] + \\sum_{k=0}^{M}b_kx[n-k]$"
      ]
    },
    {
      "cell_type": "code",
      "metadata": {
        "id": "gihCvtotM-gL",
        "colab_type": "code",
        "colab": {}
      },
      "source": [
        "#TODO"
      ],
      "execution_count": 0,
      "outputs": []
    },
    {
      "cell_type": "code",
      "metadata": {
        "id": "jAjwxV9OPt5D",
        "colab_type": "code",
        "colab": {}
      },
      "source": [
        ""
      ],
      "execution_count": 0,
      "outputs": []
    }
  ]
}